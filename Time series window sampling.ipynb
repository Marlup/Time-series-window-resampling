{
 "cells": [
  {
   "cell_type": "code",
   "execution_count": 411,
   "id": "ee8adca9",
   "metadata": {},
   "outputs": [],
   "source": [
    "import numpy as np"
   ]
  },
  {
   "cell_type": "code",
   "execution_count": 569,
   "id": "f05c8a7c",
   "metadata": {},
   "outputs": [
    {
     "data": {
      "text/plain": [
       "(100, 10)"
      ]
     },
     "execution_count": 569,
     "metadata": {},
     "output_type": "execute_result"
    }
   ],
   "source": [
    "r, c = 100, 10\n",
    "w = 5\n",
    "\n",
    "X = np.arange(r * c).reshape(r, c)\n",
    "X.shape"
   ]
  },
  {
   "cell_type": "code",
   "execution_count": 263,
   "id": "ba0d23be",
   "metadata": {},
   "outputs": [
    {
     "data": {
      "text/plain": [
       "array([[ 0,  1,  2,  3,  4,  5,  6,  7,  8,  9],\n",
       "       [10, 11, 12, 13, 14, 15, 16, 17, 18, 19],\n",
       "       [20, 21, 22, 23, 24, 25, 26, 27, 28, 29],\n",
       "       [30, 31, 32, 33, 34, 35, 36, 37, 38, 39],\n",
       "       [40, 41, 42, 43, 44, 45, 46, 47, 48, 49]])"
      ]
     },
     "execution_count": 263,
     "metadata": {},
     "output_type": "execute_result"
    }
   ],
   "source": [
    "X[:5]"
   ]
  },
  {
   "cell_type": "markdown",
   "id": "e49f33ed",
   "metadata": {},
   "source": [
    "**[1]** One time serie"
   ]
  },
  {
   "cell_type": "code",
   "execution_count": 264,
   "id": "b3fe39d6",
   "metadata": {},
   "outputs": [
    {
     "data": {
      "text/plain": [
       "array([0, 1, 2, 3, 4, 5, 6, 7, 8, 9])"
      ]
     },
     "execution_count": 264,
     "metadata": {},
     "output_type": "execute_result"
    }
   ],
   "source": [
    "indices = np.arange(c)\n",
    "indices"
   ]
  },
  {
   "cell_type": "markdown",
   "id": "b50802bf",
   "metadata": {},
   "source": [
    "Repeat w times"
   ]
  },
  {
   "cell_type": "code",
   "execution_count": 265,
   "id": "4f72f5c9",
   "metadata": {},
   "outputs": [
    {
     "data": {
      "text/plain": [
       "array([0, 0, 0, 0, 0, 0, 0, 1, 1, 1, 1, 1, 1, 1, 2, 2, 2, 2, 2, 2, 2, 3,\n",
       "       3, 3, 3, 3, 3, 3, 4, 4, 4, 4, 4, 4, 4, 5, 5, 5, 5, 5, 5, 5, 6, 6,\n",
       "       6, 6, 6, 6, 6, 7, 7, 7, 7, 7, 7, 7, 8, 8, 8, 8, 8, 8, 8, 9, 9, 9,\n",
       "       9, 9, 9, 9])"
      ]
     },
     "execution_count": 265,
     "metadata": {},
     "output_type": "execute_result"
    }
   ],
   "source": [
    "np.repeat(indices, w)"
   ]
  },
  {
   "cell_type": "markdown",
   "id": "76818797",
   "metadata": {},
   "source": [
    "Reshape so that number of columns is equal to w (window size)."
   ]
  },
  {
   "cell_type": "code",
   "execution_count": 266,
   "id": "266764b7",
   "metadata": {},
   "outputs": [
    {
     "data": {
      "text/plain": [
       "array([[0, 0, 0, 0, 0, 0, 0],\n",
       "       [1, 1, 1, 1, 1, 1, 1],\n",
       "       [2, 2, 2, 2, 2, 2, 2],\n",
       "       [3, 3, 3, 3, 3, 3, 3],\n",
       "       [4, 4, 4, 4, 4, 4, 4],\n",
       "       [5, 5, 5, 5, 5, 5, 5],\n",
       "       [6, 6, 6, 6, 6, 6, 6],\n",
       "       [7, 7, 7, 7, 7, 7, 7],\n",
       "       [8, 8, 8, 8, 8, 8, 8],\n",
       "       [9, 9, 9, 9, 9, 9, 9]])"
      ]
     },
     "execution_count": 266,
     "metadata": {},
     "output_type": "execute_result"
    }
   ],
   "source": [
    "np.repeat(indices, w).reshape(-1, w)"
   ]
  },
  {
   "cell_type": "markdown",
   "id": "efde14db",
   "metadata": {},
   "source": [
    "Sum 1 to each row"
   ]
  },
  {
   "cell_type": "code",
   "execution_count": 267,
   "id": "67650f85",
   "metadata": {},
   "outputs": [
    {
     "data": {
      "text/plain": [
       "array([[ 0,  1,  2,  3,  4,  5,  6],\n",
       "       [ 1,  2,  3,  4,  5,  6,  7],\n",
       "       [ 2,  3,  4,  5,  6,  7,  8],\n",
       "       [ 3,  4,  5,  6,  7,  8,  9],\n",
       "       [ 4,  5,  6,  7,  8,  9, 10],\n",
       "       [ 5,  6,  7,  8,  9, 10, 11],\n",
       "       [ 6,  7,  8,  9, 10, 11, 12],\n",
       "       [ 7,  8,  9, 10, 11, 12, 13],\n",
       "       [ 8,  9, 10, 11, 12, 13, 14],\n",
       "       [ 9, 10, 11, 12, 13, 14, 15]])"
      ]
     },
     "execution_count": 267,
     "metadata": {},
     "output_type": "execute_result"
    }
   ],
   "source": [
    "np.repeat(indices, w).reshape(-1, w) + np.arange(w)"
   ]
  },
  {
   "cell_type": "markdown",
   "id": "8866fed8",
   "metadata": {},
   "source": [
    "Notice that we are only interested in indices **lower than window size - 1**, in other words, repeat base indices **n - window size**"
   ]
  },
  {
   "cell_type": "markdown",
   "id": "450fae81",
   "metadata": {},
   "source": [
    "Redo from **[1]**, but repeat only **n - window size** times"
   ]
  },
  {
   "cell_type": "code",
   "execution_count": 268,
   "id": "d2a9416c",
   "metadata": {},
   "outputs": [
    {
     "name": "stdout",
     "output_type": "stream",
     "text": [
      "Number of new time serie splits (also rows): 4\n"
     ]
    },
    {
     "data": {
      "text/plain": [
       "array([[0, 1, 2, 3, 4, 5, 6],\n",
       "       [1, 2, 3, 4, 5, 6, 7],\n",
       "       [2, 3, 4, 5, 6, 7, 8],\n",
       "       [3, 4, 5, 6, 7, 8, 9]])"
      ]
     },
     "execution_count": 268,
     "metadata": {},
     "output_type": "execute_result"
    }
   ],
   "source": [
    "# All in one cell\n",
    "number_ts_splits = c - w + 1\n",
    "print(\"Number of new time serie splits (also rows):\", number_ts_splits)\n",
    "\n",
    "indices = np.arange(number_ts_splits)\n",
    "np.repeat(indices, w).reshape(-1, w) + np.arange(w)"
   ]
  },
  {
   "cell_type": "markdown",
   "id": "fc741790",
   "metadata": {},
   "source": [
    "Array of time series. Now we test a dataset of time series with two examples, WLOG."
   ]
  },
  {
   "cell_type": "code",
   "execution_count": 299,
   "id": "f8931fe7",
   "metadata": {},
   "outputs": [
    {
     "data": {
      "text/plain": [
       "array([0, 1, 2, 3])"
      ]
     },
     "execution_count": 299,
     "metadata": {},
     "output_type": "execute_result"
    }
   ],
   "source": [
    "np.arange(number_ts_splits)"
   ]
  },
  {
   "cell_type": "code",
   "execution_count": 316,
   "id": "fb106888",
   "metadata": {},
   "outputs": [
    {
     "name": "stdout",
     "output_type": "stream",
     "text": [
      "Number of new time serie splits (also rows): 4\n"
     ]
    },
    {
     "data": {
      "text/plain": [
       "((2, 4, 7),\n",
       " array([[[0, 1, 2, 3, 4, 5, 6],\n",
       "         [1, 2, 3, 4, 5, 6, 7],\n",
       "         [2, 3, 4, 5, 6, 7, 8],\n",
       "         [3, 4, 5, 6, 7, 8, 9]],\n",
       " \n",
       "        [[0, 1, 2, 3, 4, 5, 6],\n",
       "         [1, 2, 3, 4, 5, 6, 7],\n",
       "         [2, 3, 4, 5, 6, 7, 8],\n",
       "         [3, 4, 5, 6, 7, 8, 9]]]))"
      ]
     },
     "execution_count": 316,
     "metadata": {},
     "output_type": "execute_result"
    }
   ],
   "source": [
    "# All in one cell\n",
    "number_ts_splits = c - w + 1\n",
    "print(\"Number of new time serie splits (also rows):\", number_ts_splits)\n",
    "\n",
    "r_test = 2\n",
    "indices = np.arange(number_ts_splits)\n",
    "ts_indices_window = np.repeat(indices, w).reshape(-1, w) + np.arange(w)\n",
    "dataset_window = np.stack([ts_indices_window] * r_test, axis=0)\n",
    "dataset_window.shape, dataset_window"
   ]
  },
  {
   "cell_type": "code",
   "execution_count": 336,
   "id": "763f796f",
   "metadata": {},
   "outputs": [
    {
     "data": {
      "text/plain": [
       "((15, 10), (4, 7), (15, 4, 7))"
      ]
     },
     "execution_count": 336,
     "metadata": {},
     "output_type": "execute_result"
    }
   ],
   "source": [
    " i = np.array([[0, 1, 2, 3, 4, 5, 6],\n",
    "                [1, 2, 3, 4, 5, 6, 7],\n",
    "                [2, 3, 4, 5, 6, 7, 8],\n",
    "                [3, 4, 5, 6, 7, 8, 9]])\n",
    "    \n",
    "x = np.random.randn(15, 10)\n",
    "x.shape, i.shape, x[:,i].shape"
   ]
  },
  {
   "cell_type": "code",
   "execution_count": 681,
   "id": "bd2097e3",
   "metadata": {},
   "outputs": [],
   "source": [
    "class TSWindow():\n",
    "    def __init__(self, window, pad=0, n_end_targets=0, skip_targets=False):\n",
    "        self.window_data = window\n",
    "        self.window = window + n_end_targets\n",
    "        self.pad = pad\n",
    "        self.number_ts_splits = None\n",
    "        self.n_end_targets = n_end_targets\n",
    "    def _window_dataset(self, X):\n",
    "        r, f, c = X.shape\n",
    "        self.number_ts_splits = c - self.window + 1\n",
    "        base_indices = np.arange(self.number_ts_splits)\n",
    "        w_displacement = np.arange(self.window)\n",
    "        ts_indices_window = np.repeat(base_indices, self.window).reshape(-1, self.window) + w_displacement\n",
    "    \n",
    "        return X[..., ts_indices_window].reshape(-1, f, self.window)\n",
    "    def extract_sets(self, X):\n",
    "        \"\"\" Desc: \n",
    "            Input:\n",
    "                - self. General object\n",
    "                - X, numpy array (row, col), array of time series\n",
    "            Output:\n",
    "                - data , numpy array, array of data without target\n",
    "                - target, numpy array, array of target values\n",
    "        \"\"\"\n",
    "        if self.n_end_targets == 0:\n",
    "            raise Exception(\"Target setup error: No target points assigned\")\n",
    "        X_window = self._window_dataset(X)\n",
    "        return X_window[..., :self.window_data], X_window[..., -self.n_end_targets:]"
   ]
  },
  {
   "cell_type": "code",
   "execution_count": null,
   "id": "63ad8eaf",
   "metadata": {},
   "outputs": [],
   "source": [
    "class TSWindow():\n",
    "    def __init__(self, window, pad=0, n_end_targets=0, skip_targets=False):\n",
    "        self.window_data = window\n",
    "        self.window = window + n_end_targets\n",
    "        self.pad = pad\n",
    "        self.number_ts_splits = None\n",
    "        self.n_end_targets = n_end_targets\n",
    "    def _window_dataset(self, X):\n",
    "        r, f, c = X.shape\n",
    "        self.number_ts_splits = c - self.window + 1\n",
    "        base_indices = np.arange(self.number_ts_splits)\n",
    "        w_displacement = np.arange(self.window)\n",
    "        ts_indices_window = np.repeat(base_indices, self.window).reshape(-1, self.window) + w_displacement\n",
    "    \n",
    "        return X[..., ts_indices_window].reshape(-1, f, self.window)\n",
    "    def extract_sets(self, X):\n",
    "        \"\"\" Desc: \n",
    "            Input:\n",
    "                - self. General object\n",
    "                - X, numpy array (row, col), array of time series\n",
    "            Output:\n",
    "                - data , numpy array, array of data without target\n",
    "                - target, numpy array, array of target values\n",
    "        \"\"\"\n",
    "        if self.n_end_targets == 0:\n",
    "            raise Exception(\"Target setup error: No target points assigned\")\n",
    "        X_window = self._window_dataset(X)\n",
    "        return X_window[..., :self.window_data], X_window[..., -self.n_end_targets:]"
   ]
  },
  {
   "cell_type": "markdown",
   "id": "d8bfd6ca",
   "metadata": {},
   "source": [
    "Test instance with window of 5 elements and 2 target points"
   ]
  },
  {
   "cell_type": "code",
   "execution_count": 743,
   "id": "22abede9",
   "metadata": {},
   "outputs": [],
   "source": [
    "w = 5\n",
    "n_end_targets=2\n",
    "ts_windower = TSWindow(w, n_end_targets=n_end_targets)"
   ]
  },
  {
   "cell_type": "markdown",
   "id": "ea917e2f",
   "metadata": {},
   "source": [
    "## Test 1\n",
    "Test with sequence of integer values for convinience"
   ]
  },
  {
   "cell_type": "code",
   "execution_count": 797,
   "id": "d3469653",
   "metadata": {},
   "outputs": [
    {
     "data": {
      "text/plain": [
       "(10, 2, 10)"
      ]
     },
     "execution_count": 797,
     "metadata": {},
     "output_type": "execute_result"
    }
   ],
   "source": [
    "r, f, c = 10, 2, 10\n",
    "w = 5\n",
    "\n",
    "X = np.arange(r * f * c).reshape(r, f, c)\n",
    "X.shape"
   ]
  },
  {
   "cell_type": "code",
   "execution_count": 745,
   "id": "6b1a6bee",
   "metadata": {},
   "outputs": [
    {
     "data": {
      "text/plain": [
       "((40, 3, 7),\n",
       " array([[[  0,   1,   2,   3,   4,   5,   6],\n",
       "         [  1,   2,   3,   4,   5,   6,   7],\n",
       "         [  2,   3,   4,   5,   6,   7,   8]],\n",
       " \n",
       "        [[  3,   4,   5,   6,   7,   8,   9],\n",
       "         [ 10,  11,  12,  13,  14,  15,  16],\n",
       "         [ 11,  12,  13,  14,  15,  16,  17]],\n",
       " \n",
       "        [[ 12,  13,  14,  15,  16,  17,  18],\n",
       "         [ 13,  14,  15,  16,  17,  18,  19],\n",
       "         [ 20,  21,  22,  23,  24,  25,  26]],\n",
       " \n",
       "        [[ 21,  22,  23,  24,  25,  26,  27],\n",
       "         [ 22,  23,  24,  25,  26,  27,  28],\n",
       "         [ 23,  24,  25,  26,  27,  28,  29]],\n",
       " \n",
       "        [[ 30,  31,  32,  33,  34,  35,  36],\n",
       "         [ 31,  32,  33,  34,  35,  36,  37],\n",
       "         [ 32,  33,  34,  35,  36,  37,  38]],\n",
       " \n",
       "        [[ 33,  34,  35,  36,  37,  38,  39],\n",
       "         [ 40,  41,  42,  43,  44,  45,  46],\n",
       "         [ 41,  42,  43,  44,  45,  46,  47]],\n",
       " \n",
       "        [[ 42,  43,  44,  45,  46,  47,  48],\n",
       "         [ 43,  44,  45,  46,  47,  48,  49],\n",
       "         [ 50,  51,  52,  53,  54,  55,  56]],\n",
       " \n",
       "        [[ 51,  52,  53,  54,  55,  56,  57],\n",
       "         [ 52,  53,  54,  55,  56,  57,  58],\n",
       "         [ 53,  54,  55,  56,  57,  58,  59]],\n",
       " \n",
       "        [[ 60,  61,  62,  63,  64,  65,  66],\n",
       "         [ 61,  62,  63,  64,  65,  66,  67],\n",
       "         [ 62,  63,  64,  65,  66,  67,  68]],\n",
       " \n",
       "        [[ 63,  64,  65,  66,  67,  68,  69],\n",
       "         [ 70,  71,  72,  73,  74,  75,  76],\n",
       "         [ 71,  72,  73,  74,  75,  76,  77]],\n",
       " \n",
       "        [[ 72,  73,  74,  75,  76,  77,  78],\n",
       "         [ 73,  74,  75,  76,  77,  78,  79],\n",
       "         [ 80,  81,  82,  83,  84,  85,  86]],\n",
       " \n",
       "        [[ 81,  82,  83,  84,  85,  86,  87],\n",
       "         [ 82,  83,  84,  85,  86,  87,  88],\n",
       "         [ 83,  84,  85,  86,  87,  88,  89]],\n",
       " \n",
       "        [[ 90,  91,  92,  93,  94,  95,  96],\n",
       "         [ 91,  92,  93,  94,  95,  96,  97],\n",
       "         [ 92,  93,  94,  95,  96,  97,  98]],\n",
       " \n",
       "        [[ 93,  94,  95,  96,  97,  98,  99],\n",
       "         [100, 101, 102, 103, 104, 105, 106],\n",
       "         [101, 102, 103, 104, 105, 106, 107]],\n",
       " \n",
       "        [[102, 103, 104, 105, 106, 107, 108],\n",
       "         [103, 104, 105, 106, 107, 108, 109],\n",
       "         [110, 111, 112, 113, 114, 115, 116]],\n",
       " \n",
       "        [[111, 112, 113, 114, 115, 116, 117],\n",
       "         [112, 113, 114, 115, 116, 117, 118],\n",
       "         [113, 114, 115, 116, 117, 118, 119]],\n",
       " \n",
       "        [[120, 121, 122, 123, 124, 125, 126],\n",
       "         [121, 122, 123, 124, 125, 126, 127],\n",
       "         [122, 123, 124, 125, 126, 127, 128]],\n",
       " \n",
       "        [[123, 124, 125, 126, 127, 128, 129],\n",
       "         [130, 131, 132, 133, 134, 135, 136],\n",
       "         [131, 132, 133, 134, 135, 136, 137]],\n",
       " \n",
       "        [[132, 133, 134, 135, 136, 137, 138],\n",
       "         [133, 134, 135, 136, 137, 138, 139],\n",
       "         [140, 141, 142, 143, 144, 145, 146]],\n",
       " \n",
       "        [[141, 142, 143, 144, 145, 146, 147],\n",
       "         [142, 143, 144, 145, 146, 147, 148],\n",
       "         [143, 144, 145, 146, 147, 148, 149]]]))"
      ]
     },
     "execution_count": 745,
     "metadata": {},
     "output_type": "execute_result"
    }
   ],
   "source": [
    "X_window = ts_windower._window_dataset(X)\n",
    "X_window.shape, X_window[:20]"
   ]
  },
  {
   "cell_type": "markdown",
   "id": "569b2bab",
   "metadata": {},
   "source": [
    "### Extract data and target"
   ]
  },
  {
   "cell_type": "code",
   "execution_count": 746,
   "id": "be32410f",
   "metadata": {},
   "outputs": [
    {
     "data": {
      "text/plain": [
       "4"
      ]
     },
     "execution_count": 746,
     "metadata": {},
     "output_type": "execute_result"
    }
   ],
   "source": [
    "ts_windower.number_ts_splits"
   ]
  },
  {
   "cell_type": "code",
   "execution_count": 747,
   "id": "61e9ae05",
   "metadata": {},
   "outputs": [
    {
     "data": {
      "text/plain": [
       "((10, 3, 10), (40, 3, 5), (40, 3, 2))"
      ]
     },
     "execution_count": 747,
     "metadata": {},
     "output_type": "execute_result"
    }
   ],
   "source": [
    "X_data, target = ts_windower.extract_sets(X)\n",
    "X.shape, X_data.shape, target.shape"
   ]
  },
  {
   "cell_type": "code",
   "execution_count": 748,
   "id": "a91a9726",
   "metadata": {},
   "outputs": [
    {
     "data": {
      "text/plain": [
       "(array([[[  0,   1,   2,   3,   4,   5,   6,   7,   8,   9],\n",
       "         [ 10,  11,  12,  13,  14,  15,  16,  17,  18,  19],\n",
       "         [ 20,  21,  22,  23,  24,  25,  26,  27,  28,  29]],\n",
       " \n",
       "        [[ 30,  31,  32,  33,  34,  35,  36,  37,  38,  39],\n",
       "         [ 40,  41,  42,  43,  44,  45,  46,  47,  48,  49],\n",
       "         [ 50,  51,  52,  53,  54,  55,  56,  57,  58,  59]],\n",
       " \n",
       "        [[ 60,  61,  62,  63,  64,  65,  66,  67,  68,  69],\n",
       "         [ 70,  71,  72,  73,  74,  75,  76,  77,  78,  79],\n",
       "         [ 80,  81,  82,  83,  84,  85,  86,  87,  88,  89]],\n",
       " \n",
       "        [[ 90,  91,  92,  93,  94,  95,  96,  97,  98,  99],\n",
       "         [100, 101, 102, 103, 104, 105, 106, 107, 108, 109],\n",
       "         [110, 111, 112, 113, 114, 115, 116, 117, 118, 119]],\n",
       " \n",
       "        [[120, 121, 122, 123, 124, 125, 126, 127, 128, 129],\n",
       "         [130, 131, 132, 133, 134, 135, 136, 137, 138, 139],\n",
       "         [140, 141, 142, 143, 144, 145, 146, 147, 148, 149]]]),\n",
       " array([[[ 0,  1,  2,  3,  4],\n",
       "         [ 1,  2,  3,  4,  5],\n",
       "         [ 2,  3,  4,  5,  6]],\n",
       " \n",
       "        [[ 3,  4,  5,  6,  7],\n",
       "         [10, 11, 12, 13, 14],\n",
       "         [11, 12, 13, 14, 15]],\n",
       " \n",
       "        [[12, 13, 14, 15, 16],\n",
       "         [13, 14, 15, 16, 17],\n",
       "         [20, 21, 22, 23, 24]],\n",
       " \n",
       "        [[21, 22, 23, 24, 25],\n",
       "         [22, 23, 24, 25, 26],\n",
       "         [23, 24, 25, 26, 27]],\n",
       " \n",
       "        [[30, 31, 32, 33, 34],\n",
       "         [31, 32, 33, 34, 35],\n",
       "         [32, 33, 34, 35, 36]]]),\n",
       " array([[[ 5,  6],\n",
       "         [ 6,  7],\n",
       "         [ 7,  8]],\n",
       " \n",
       "        [[ 8,  9],\n",
       "         [15, 16],\n",
       "         [16, 17]],\n",
       " \n",
       "        [[17, 18],\n",
       "         [18, 19],\n",
       "         [25, 26]],\n",
       " \n",
       "        [[26, 27],\n",
       "         [27, 28],\n",
       "         [28, 29]],\n",
       " \n",
       "        [[35, 36],\n",
       "         [36, 37],\n",
       "         [37, 38]]]))"
      ]
     },
     "execution_count": 748,
     "metadata": {},
     "output_type": "execute_result"
    }
   ],
   "source": [
    "n = 5\n",
    "X[:n], X_data[:n], target[:n]"
   ]
  },
  {
   "cell_type": "markdown",
   "id": "48dda46f",
   "metadata": {},
   "source": [
    "## Test 2\n",
    "Test with random values for convinience"
   ]
  },
  {
   "cell_type": "code",
   "execution_count": 816,
   "id": "11e6b6ec",
   "metadata": {},
   "outputs": [
    {
     "data": {
      "text/plain": [
       "((10, 1, 10), (60, 1, 5))"
      ]
     },
     "execution_count": 816,
     "metadata": {},
     "output_type": "execute_result"
    }
   ],
   "source": [
    "f = 1\n",
    "X_randn = np.random.randn(r, f, c)\n",
    "\n",
    "w = 3\n",
    "n_end_targets=2\n",
    "ts_windower = TSWindow(w, n_end_targets=n_end_targets)\n",
    "\n",
    "X_window = ts_windower._window_dataset(X_randn)\n",
    "X_randn.shape, X_window.shape"
   ]
  },
  {
   "cell_type": "code",
   "execution_count": 817,
   "id": "06309d51",
   "metadata": {},
   "outputs": [
    {
     "data": {
      "text/plain": [
       "(array([[[ 1.8937752 , -0.73535811, -1.17115881,  0.32857728,\n",
       "           0.31779131,  1.25287965, -1.15746567,  0.32952221,\n",
       "           0.04581648, -1.24098518]],\n",
       " \n",
       "        [[ 1.30895881, -0.23723923, -0.96298451, -1.39956914,\n",
       "          -0.44570796, -0.05786424, -0.85048872, -0.69938559,\n",
       "           1.03446585,  0.2769285 ]]]),\n",
       " array([[[ 1.8937752 , -0.73535811, -1.17115881,  0.32857728,\n",
       "           0.31779131]],\n",
       " \n",
       "        [[-0.73535811, -1.17115881,  0.32857728,  0.31779131,\n",
       "           1.25287965]]]))"
      ]
     },
     "execution_count": 817,
     "metadata": {},
     "output_type": "execute_result"
    }
   ],
   "source": [
    "X_randn[:2], X_window[:2]"
   ]
  },
  {
   "cell_type": "markdown",
   "id": "0572dcda",
   "metadata": {},
   "source": [
    "### Extract data and target"
   ]
  },
  {
   "cell_type": "code",
   "execution_count": 818,
   "id": "4e130b37",
   "metadata": {},
   "outputs": [
    {
     "data": {
      "text/plain": [
       "((10, 1, 10), (60, 1, 3), (60, 1, 2))"
      ]
     },
     "execution_count": 818,
     "metadata": {},
     "output_type": "execute_result"
    }
   ],
   "source": [
    "X_data, target = ts_windower.extract_sets(X_randn)\n",
    "X_randn.shape, X_data.shape, target.shape"
   ]
  },
  {
   "cell_type": "code",
   "execution_count": 851,
   "id": "5a9a4435",
   "metadata": {},
   "outputs": [
    {
     "data": {
      "text/plain": [
       "(array([[ 1.8937752 , -0.73535811, -1.17115881,  0.32857728,  0.31779131,\n",
       "          1.25287965, -1.15746567,  0.32952221,  0.04581648, -1.24098518],\n",
       "        [ 1.30895881, -0.23723923, -0.96298451, -1.39956914, -0.44570796,\n",
       "         -0.05786424, -0.85048872, -0.69938559,  1.03446585,  0.2769285 ],\n",
       "        [ 1.49460325,  0.97105422,  0.10253515,  0.69845078, -1.10511549,\n",
       "         -0.39967834, -0.12024263,  0.97656067,  0.14840541, -2.11214588],\n",
       "        [-0.7515058 , -0.43369278,  0.55075105,  1.11949686, -1.53875578,\n",
       "          0.31089321,  0.19598478, -0.14282068,  0.01871109,  1.21893912],\n",
       "        [-1.90968072,  0.06191024, -1.02637263, -0.82379031,  1.13276629,\n",
       "          0.29584838,  1.25145064,  0.27469117, -1.65180326,  0.51181712]]),\n",
       " array([[ 1.8937752 , -0.73535811, -1.17115881],\n",
       "        [-0.73535811, -1.17115881,  0.32857728],\n",
       "        [-1.17115881,  0.32857728,  0.31779131],\n",
       "        [ 0.32857728,  0.31779131,  1.25287965],\n",
       "        [ 0.31779131,  1.25287965, -1.15746567]]),\n",
       " array([[0.32857728, 0.31779131]]))"
      ]
     },
     "execution_count": 851,
     "metadata": {},
     "output_type": "execute_result"
    }
   ],
   "source": [
    "n = 5\n",
    "X_randn[:n,0,:], X_data[:n,0,:], target[0]"
   ]
  },
  {
   "cell_type": "markdown",
   "id": "da493d42",
   "metadata": {},
   "source": [
    "## Visualizatiom"
   ]
  },
  {
   "cell_type": "markdown",
   "id": "427eeaba",
   "metadata": {},
   "source": [
    "Visualize the full time series and each one of its splits."
   ]
  },
  {
   "cell_type": "code",
   "execution_count": 852,
   "id": "c35155a8",
   "metadata": {},
   "outputs": [],
   "source": [
    "from matplotlib import pyplot as plt"
   ]
  },
  {
   "cell_type": "code",
   "execution_count": 853,
   "id": "84f5e9c9",
   "metadata": {},
   "outputs": [
    {
     "data": {
      "text/plain": [
       "(10, 6, 1, 3)"
      ]
     },
     "execution_count": 853,
     "metadata": {},
     "output_type": "execute_result"
    }
   ],
   "source": [
    "X_data.reshape(r, ts_windower.number_ts_splits, f, w).shape"
   ]
  },
  {
   "cell_type": "code",
   "execution_count": 854,
   "id": "1ab43da4",
   "metadata": {},
   "outputs": [
    {
     "data": {
      "text/plain": [
       "(10, 6, 1, 2)"
      ]
     },
     "execution_count": 854,
     "metadata": {},
     "output_type": "execute_result"
    }
   ],
   "source": [
    "target.reshape(r, ts_windower.number_ts_splits, f, n_end_targets).shape"
   ]
  },
  {
   "cell_type": "code",
   "execution_count": 954,
   "id": "e3e5b400",
   "metadata": {},
   "outputs": [
    {
     "name": "stdout",
     "output_type": "stream",
     "text": [
      "[0 1 2] [1.49460325 0.97105422 0.10253515] | [3 4] [ 0.69845078 -1.10511549]\n",
      "[1 2 3] [0.97105422 0.10253515 0.69845078] | [4 5] [-1.10511549 -0.39967834]\n",
      "[2 3 4] [ 0.10253515  0.69845078 -1.10511549] | [5 6] [-0.39967834 -0.12024263]\n",
      "[3 4 5] [ 0.69845078 -1.10511549 -0.39967834] | [6 7] [-0.12024263  0.97656067]\n",
      "[4 5 6] [-1.10511549 -0.39967834 -0.12024263] | [7 8] [0.97656067 0.14840541]\n",
      "[5 6 7] [-0.39967834 -0.12024263  0.97656067] | [8 9] [ 0.14840541 -2.11214588]\n"
     ]
    },
    {
     "data": {
      "image/png": "[encoded data removed]",
      "text/plain": [
       "<Figure size 640x480 with 1 Axes>"
      ]
     },
     "metadata": {},
     "output_type": "display_data"
    }
   ],
   "source": [
    "n_serie = 2\n",
    "plt.plot(X_randn[n_serie, 0,:], linestyle=\"-.\")\n",
    "\n",
    "Y_temp = X_data.reshape(r, ts_windower.number_ts_splits, f, w)\n",
    "target_temp = target.reshape(r, ts_windower.number_ts_splits, f, n_end_targets)\n",
    "\n",
    "linestyle_data = \"-\"\n",
    "\n",
    "s = 200\n",
    "alpha = 0.6\n",
    "target_marker = \"o\"\n",
    "\n",
    "for i, y in enumerate(Y_temp[n_serie, :, 0, :]):\n",
    "    noise = np.random.randn(1).item()\n",
    "    n_points = len(y)\n",
    "    x = np.arange(n_points) + i\n",
    "    \n",
    "    target_points = target_temp[n_serie, i, 0, :]\n",
    "    x_target = np.arange(len(target_points)) + i + w\n",
    "    \n",
    "    print(x, y, \"|\", x_target, target_points)\n",
    "    \n",
    "    ax = plt.plot(x, y + 0.1 * noise, \n",
    "                  marker=\"*\", \n",
    "                  linestyle=linestyle_data)\n",
    "    color = ax[0].get_color()\n",
    "    \n",
    "    plt.scatter(x_target, target_points + 0.2 * noise, \n",
    "                marker=target_marker, \n",
    "                alpha=alpha, \n",
    "                s=s, \n",
    "                facecolor=color, \n",
    "                edgecolor=\"black\")"
   ]
  },
  {
   "cell_type": "code",
   "execution_count": null,
   "id": "0bceef3e",
   "metadata": {},
   "outputs": [],
   "source": []
  }
 ],
 "metadata": {
  "kernelspec": {
   "display_name": "Python 3 (ipykernel)",
   "language": "python",
   "name": "python3"
  },
  "language_info": {
   "codemirror_mode": {
    "name": "ipython",
    "version": 3
   },
   "file_extension": ".py",
   "mimetype": "text/x-python",
   "name": "python",
   "nbconvert_exporter": "python",
   "pygments_lexer": "ipython3",
   "version": "3.9.13"
  }
 },
 "nbformat": 4,
 "nbformat_minor": 5
}
